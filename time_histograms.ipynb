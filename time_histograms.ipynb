{
 "cells": [
  {
   "cell_type": "code",
   "id": "ab7208ae-c237-4337-9380-8af22c3b9c53",
   "metadata": {},
   "source": [
    "import pandas as pd\n",
    "from anyio import sleep\n",
    "import numpy as np\n",
    "from datetime import time\n",
    "import matplotlib.pyplot as plt\n",
    "import matplotlib.lines as mlines"
   ],
   "outputs": [],
   "execution_count": null
  },
  {
   "cell_type": "code",
   "id": "d62bce12-f6a2-4bf4-b7f7-4ee6800ad76d",
   "metadata": {},
   "source": [
    "def load_and_aggregate_routes_with_adress():\n",
    "    locations = pd.read_excel('data/locations_with_coords.xlsx', header=0)\n",
    "    routes = pd.read_excel('data/StrategischerTourenplan_HSLU.xlsx', sheet_name=0, header=0)\n",
    "    routes_grouped = routes.groupby(['Tournummer','VST']).first().reset_index().__deepcopy__()\n",
    "    locations.rename(columns={'VST-Nummer':'SAP'}, inplace=True)\n",
    "    duplicate_locations = locations[locations.duplicated(subset='SAP', keep=False)]\n",
    "    duplicate_locations = locations[locations.duplicated(subset='SAP', keep=False)]\n",
    "    routes_with_address = routes_grouped.join(locations.set_index('SAP'), on='SAP', how='left')\n",
    "    return routes_with_address, routes, locations"
   ],
   "outputs": [],
   "execution_count": null
  },
  {
   "cell_type": "code",
   "id": "c19454c4-ae76-43f1-978b-aa227d098b90",
   "metadata": {},
   "source": [
    "routes_with_address, routes, locations = load_and_aggregate_routes_with_adress()"
   ],
   "outputs": [],
   "execution_count": null
  },
  {
   "cell_type": "code",
   "id": "d1b8273b-5dc3-4661-9513-770246954824",
   "metadata": {},
   "source": [
    "routes_with_address.columns"
   ],
   "outputs": [],
   "execution_count": null
  },
  {
   "cell_type": "code",
   "id": "6aba6d39-d826-4dee-b31c-4fb0453e38dd",
   "metadata": {},
   "source": [
    "routes_with_address.head()"
   ],
   "outputs": [],
   "execution_count": null
  },
  {
   "cell_type": "code",
   "id": "01eb3df2-d69a-4670-983e-9af85d86b213",
   "metadata": {},
   "source": [
    "routes_with_address.columns"
   ],
   "outputs": [],
   "execution_count": null
  },
  {
   "cell_type": "code",
   "id": "5d01a34b-807c-4ef1-936f-90a3bab9fc95",
   "metadata": {},
   "source": [
    "from datetime import time"
   ],
   "outputs": [],
   "execution_count": null
  },
  {
   "cell_type": "code",
   "id": "2f8b3e24-e71a-4f6e-be0e-38c6f098ce93",
   "metadata": {},
   "source": [
    "def convert_time_column_to_datetime(x):\n",
    "    return pd.to_datetime(x.apply(lambda x: x.isoformat()))"
   ],
   "outputs": [],
   "execution_count": null
  },
  {
   "cell_type": "code",
   "id": "89c6862c-b5ec-4cdf-a8af-b68e235f6599",
   "metadata": {},
   "source": [
    "def get_timestamp_bins_from_a_time_column(x, freq=\"30min\"):\n",
    "    bins = pd.timedelta_range(\"00:00:00\", \"23:30:00\", freq=freq)\n",
    "    bins_datetime = pd.to_datetime(bins.astype(np.int64)).time\n",
    "    bins_real_datetime = [pd.to_datetime(bin.isoformat()) for bin in bins_datetime]\n",
    "    return bins_real_datetime"
   ],
   "outputs": [],
   "execution_count": null
  },
  {
   "cell_type": "code",
   "id": "40f66290-f937-4555-b270-4f820649f8ab",
   "metadata": {},
   "source": [
    "def get_bin_cuts_from_a_time_column(x, freq=\"30min\"):\n",
    "    datetime_columns = convert_time_column_to_datetime(x)\n",
    "    bins_real_datetime = get_timestamp_bins_from_a_time_column(x, freq=freq)\n",
    "    bin_cuts = pd.cut(datetime_columns, bins=bins_real_datetime)\n",
    "    return bin_cuts"
   ],
   "outputs": [],
   "execution_count": null
  },
  {
   "cell_type": "code",
   "id": "21016391-ed55-4378-9a20-4b0c04153f9d",
   "metadata": {},
   "source": [
    "def add_time_bins_from_column_to_plot(col, ax, freq=\"30min\"):\n",
    "    bin_cuts =  get_bin_cuts_from_a_time_column(col, freq=freq)\n",
    "    col.groupby(bin_cuts).count().plot(kind=\"bar\", ax=ax)\n",
    "    labels = [(l.get_text().split(' ')[1]).replace(']','').replace(',','') for l in ax.get_xticklabels()]\n",
    "    _ = ax.set_xticklabels(labels)\n",
    "    ax.set_xlabel('Tageszeit (30min-Intervalle)')"
   ],
   "outputs": [],
   "execution_count": null
  },
  {
   "cell_type": "code",
   "id": "947ad289-fead-436d-b62c-1197d3656f22",
   "metadata": {},
   "source": [
    "fig, ax = plt.subplots(figsize=(10,5))  #create figure and axes\n",
    "add_time_bins_from_column_to_plot(routes_with_address['Abfahrtszeit Beladestelle'], ax=ax, freq=\"30min\")\n",
    "#add_time_bins_from_column_to_plot(routes_with_address['Tourendezeit'], ax=ax, freq=\"30min\")"
   ],
   "outputs": [],
   "execution_count": null
  },
  {
   "cell_type": "code",
   "id": "1efc83ed-9072-43fe-93f1-b0dbd404f091",
   "metadata": {},
   "source": [
    "fig, ax = plt.subplots(figsize=(10,5))  #create figure and axes\n",
    "#add_time_bins_from_column_to_plot(routes_with_address['Abfahrtszeit Beladestelle'], ax=ax, freq=\"30min\")\n",
    "add_time_bins_from_column_to_plot(routes_with_address['Tourendezeit'], ax=ax, freq=\"30min\")"
   ],
   "outputs": [],
   "execution_count": null
  },
  {
   "cell_type": "code",
   "id": "6b6118a7-e46d-4409-beb6-3f2dba7d5764",
   "metadata": {},
   "source": [
    "import seaborn as sns"
   ],
   "outputs": [],
   "execution_count": null
  },
  {
   "cell_type": "code",
   "id": "a79f9436-f079-4404-86a4-375a6f97ce70",
   "metadata": {},
   "source": [
    "def get_bin_counts(col, freq=\"30min\"):\n",
    "    bin_cuts =  get_bin_cuts_from_a_time_column(col, freq=freq)\n",
    "    data = pd.DataFrame(col.groupby(bin_cuts).count())\n",
    "    return data.values"
   ],
   "outputs": [],
   "execution_count": null
  },
  {
   "cell_type": "code",
   "id": "b4fed5fc-e9e1-4974-a07a-e67bc4291c6e",
   "metadata": {},
   "source": [
    "bins_real_datetime = get_timestamp_bins_from_a_time_column(routes_with_address['Tourendezeit'], freq=\"30min\")\n",
    "#bins_real_datetime"
   ],
   "outputs": [],
   "execution_count": null
  },
  {
   "cell_type": "code",
   "id": "f0c5ce28",
   "metadata": {},
   "source": [
    "bins_real_datetime = get_timestamp_bins_from_a_time_column(routes_with_address['Tourendezeit'], freq=\"30min\")"
   ],
   "outputs": [],
   "execution_count": null
  },
  {
   "cell_type": "code",
   "id": "a93541c3-0943-4a6c-b549-1d57f5526937",
   "metadata": {},
   "source": [
    "col = routes_with_address['Tourendezeit']\n",
    "bin_cuts =  get_bin_cuts_from_a_time_column(col, freq=\"30min\")\n",
    "data = pd.DataFrame(col.groupby(bin_cuts).count())\n",
    "#data = data.rename(columns={'Tourendezeit':'Counts'}).reset_index()\n",
    "data.index.name"
   ],
   "outputs": [],
   "execution_count": null
  },
  {
   "cell_type": "code",
   "id": "cb05b56a-3a3a-4172-81e6-2ec5bdb01d15",
   "metadata": {},
   "source": [
    "def add_hist_to_plot(col, ax, freq=\"30min\"):\n",
    "    bin_cuts =  get_bin_cuts_from_a_time_column(col, freq)\n",
    "    data = pd.DataFrame(col.groupby(bin_cuts).count())\n",
    "    name = data.index.name\n",
    "    data = data.rename(columns={name:'Counts'}).reset_index()\n",
    "    return sns.barplot(data, x=name, y='Counts', ax=ax, alpha=0.8)"
   ],
   "outputs": [],
   "execution_count": null
  },
  {
   "cell_type": "code",
   "id": "2475345a-0108-415a-8f51-2be0a464989f",
   "metadata": {},
   "source": [],
   "outputs": [],
   "execution_count": null
  },
  {
   "cell_type": "code",
   "id": "a33f5105-c318-4e6e-8b2c-4ab4e2b7f5ef",
   "metadata": {},
   "source": [
    "fig, ax = plt.subplots(figsize=(15,5)) \n",
    "add_hist_to_plot(routes_with_address['Abfahrtszeit Beladestelle'], ax, freq=\"15min\")\n",
    "add_hist_to_plot(routes_with_address['Tourendezeit'], ax, freq=\"15min\")\n",
    "labels = [(l.get_text().split(' ')[1]).replace(']','').replace(',','') for l in ax.get_xticklabels()]\n",
    "_ = ax.set_xticklabels(labels, rotation=270)\n",
    "ax.legend(labels=['Abfahrtszeit Beladestelle','Tourendezeit'], loc='best', fontsize=12)\n",
    "ax.set_xlabel('Day Time Intervals (15min)', fontsize=12)\n",
    "ax.set_ylabel('Number of Vehicles', fontsize=12)\n",
    "eight = mlines.Line2D([], [], color=plt.cm.tab10.colors[0], marker='s', ls='', label='Departure Time Loading Station')\n",
    "nine = mlines.Line2D([], [], color=plt.cm.tab10.colors[1], marker='s', ls='', label='End of Tour')\n",
    "start, end = ax.get_ylim()\n",
    "ax.yaxis.set_ticks(np.arange(start, end, 50))\n",
    "plt.legend(handles=[eight, nine], fontsize=12)\n",
    "plt.tight_layout()"
   ],
   "outputs": [],
   "execution_count": null
  },
  {
   "cell_type": "code",
   "id": "9854f5bb-ac5f-4dd7-af62-a936fb1968f9",
   "metadata": {},
   "source": [
    "routes_with_address_monday = routes_with_address[routes_with_address['Wochentag']=='Montag']"
   ],
   "outputs": [],
   "execution_count": null
  },
  {
   "cell_type": "code",
   "id": "76fdb12a-bb5d-4d83-8df6-e18e1c928dc0",
   "metadata": {},
   "source": [
    "fig, axes = plt.subplots(6,1, figsize=(15,10), sharex=True, sharey=True) \n",
    "\n",
    "ax = axes[0]\n",
    "routes_with_address_monday = routes_with_address[routes_with_address['Wochentag']=='Montag']\n",
    "add_hist_to_plot(routes_with_address_monday['Abfahrtszeit Beladestelle'], ax, freq=\"15min\")\n",
    "add_hist_to_plot(routes_with_address_monday['Tourendezeit'], ax, freq=\"15min\")\n",
    "\n",
    "ax.legend(labels=['Abfahrtszeit Beladestelle','Tourendezeit'], loc='best', fontsize=12)\n",
    "ax.set_xlabel('Day Time Intervals (15min)', fontsize=12)\n",
    "ax.set_ylabel('Vehicles', fontsize=12)\n",
    "eight = mlines.Line2D([], [], color=plt.cm.tab10.colors[0], marker='s', ls='', label='Departure Time Loading Station')\n",
    "nine = mlines.Line2D([], [], color=plt.cm.tab10.colors[1], marker='s', ls='', label='End of Tour')\n",
    "axes[0].set_title('Monday')\n",
    "\n",
    "start, end = ax.get_ylim()\n",
    "for axi in axes:\n",
    "    axi.yaxis.set_ticks(np.arange(start, end, 10))\n",
    "ax.legend(handles=[eight, nine], fontsize=12)\n",
    "\n",
    "routes_with_address_monday = routes_with_address[routes_with_address['Wochentag']=='Dienstag']\n",
    "add_hist_to_plot(routes_with_address_monday['Abfahrtszeit Beladestelle'], axes[1], freq=\"15min\")\n",
    "add_hist_to_plot(routes_with_address_monday['Tourendezeit'], axes[1], freq=\"15min\")\n",
    "axes[1].yaxis.set_ticks(np.arange(start, end, 10))\n",
    "axes[1].set_title('Tuesday')\n",
    "axes[1].set_ylabel('Vehicles', fontsize=12)\n",
    "\n",
    "\n",
    "routes_with_address_monday = routes_with_address[routes_with_address['Wochentag']=='Mittwoch']\n",
    "add_hist_to_plot(routes_with_address_monday['Abfahrtszeit Beladestelle'], axes[2], freq=\"15min\")\n",
    "add_hist_to_plot(routes_with_address_monday['Tourendezeit'], axes[2], freq=\"15min\")\n",
    "axes[2].yaxis.set_ticks(np.arange(start, end, 10))\n",
    "axes[2].set_title('Wednesday')\n",
    "axes[2].set_ylabel('Vehicles', fontsize=12)\n",
    "\n",
    "routes_with_address_monday = routes_with_address[routes_with_address['Wochentag']=='Donnerstag']\n",
    "add_hist_to_plot(routes_with_address_monday['Abfahrtszeit Beladestelle'], axes[3], freq=\"15min\")\n",
    "add_hist_to_plot(routes_with_address_monday['Tourendezeit'], axes[3], freq=\"15min\")\n",
    "axes[3].yaxis.set_ticks(np.arange(start, end, 10))\n",
    "axes[3].set_title('Thursday')\n",
    "axes[3].set_ylabel('Vehicles', fontsize=12)\n",
    "\n",
    "routes_with_address_monday = routes_with_address[routes_with_address['Wochentag']=='Freitag']\n",
    "add_hist_to_plot(routes_with_address_monday['Abfahrtszeit Beladestelle'], axes[4], freq=\"15min\")\n",
    "add_hist_to_plot(routes_with_address_monday['Tourendezeit'], axes[4], freq=\"15min\")\n",
    "axes[4].yaxis.set_ticks(np.arange(start, end, 10))\n",
    "axes[4].set_title('Friday')\n",
    "axes[4].set_ylabel('Vehicles', fontsize=12)\n",
    "\n",
    "routes_with_address_monday = routes_with_address[routes_with_address['Wochentag']=='Samstag']\n",
    "add_hist_to_plot(routes_with_address_monday['Abfahrtszeit Beladestelle'], axes[5], freq=\"15min\")\n",
    "add_hist_to_plot(routes_with_address_monday['Tourendezeit'], axes[5], freq=\"15min\")\n",
    "axes[5].yaxis.set_ticks(np.arange(start, end, 10))\n",
    "axes[5].set_title('Saturday')\n",
    "axes[5].set_ylabel('Vehicles', fontsize=12)\n",
    "\n",
    "axes[5].set_xlabel('Day Time (15min Intervals)')\n",
    "\n",
    "\n",
    "labels = [(l.get_text().split(' ')[1]).replace(']','').replace(',','') for l in axes[5].get_xticklabels()]\n",
    "_ = axes[5].set_xticklabels(labels, rotation=270)\n",
    "plt.tight_layout()"
   ],
   "outputs": [],
   "execution_count": null
  },
  {
   "cell_type": "code",
   "id": "57360490-fc08-434d-a0af-7fc772f78757",
   "metadata": {},
   "source": [],
   "outputs": [],
   "execution_count": null
  },
  {
   "cell_type": "code",
   "id": "038a79e4-f89f-40ed-910e-5a1700b572ef",
   "metadata": {},
   "source": [],
   "outputs": [],
   "execution_count": null
  },
  {
   "cell_type": "code",
   "id": "032fc208-f6f0-4aa6-b60a-54a18f0bacb2",
   "metadata": {},
   "source": [],
   "outputs": [],
   "execution_count": null
  },
  {
   "cell_type": "code",
   "id": "f6bd1d16-f6cc-478d-bd3b-2c0fb882ec39",
   "metadata": {},
   "source": [],
   "outputs": [],
   "execution_count": null
  }
 ],
 "metadata": {
  "kernelspec": {
   "display_name": "etrucks_env",
   "language": "python",
   "name": "etrucks_env"
  },
  "language_info": {
   "codemirror_mode": {
    "name": "ipython",
    "version": 3
   },
   "file_extension": ".py",
   "mimetype": "text/x-python",
   "name": "python",
   "nbconvert_exporter": "python",
   "pygments_lexer": "ipython3",
   "version": "3.12.4"
  }
 },
 "nbformat": 4,
 "nbformat_minor": 5
}
