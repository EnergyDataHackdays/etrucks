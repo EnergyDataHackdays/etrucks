{
 "cells": [
  {
   "metadata": {},
   "cell_type": "markdown",
   "source": [
    "## Load data"
   ],
   "id": "15663c8940b6a563"
  },
  {
   "metadata": {
    "collapsed": true
   },
   "cell_type": "code",
   "source": [
    "import pandas as pd\n",
    "\n",
    "# Load the Excel file and use the first row as headers\n",
    "file_path = 'data/routes_with_distance.xlsx'  # Update the path as needed\n",
    "routes = pd.read_excel(file_path, header=0)  # 'header=0' makes the first row the column headers\n",
    "\n",
    "# Display the header (first few rows)\n",
    "routes.head()"
   ],
   "id": "initial_id",
   "outputs": [],
   "execution_count": null
  },
  {
   "metadata": {},
   "cell_type": "markdown",
   "source": [
    "## Define base"
   ],
   "id": "c0f12053d9f152f"
  },
  {
   "metadata": {},
   "cell_type": "code",
   "source": [
    "import openrouteservice\n",
    "\n",
    "# Initialize the OpenRouteService client with your API key\n",
    "API_KEY = 'your_api_key'\n",
    "client = openrouteservice.Client(key=API_KEY)\n",
    "\n",
    "# Define the fixed address\n",
    "base_address = \"xxx, yyyy, Switzerland\"  # Update the address as needed\n",
    "\n",
    "geocode_fixed = client.pelias_search(base_address)\n",
    "base_coords = geocode_fixed['features'][0]['geometry']['coordinates']\n",
    "base_lat, base_lon = base_coords[1], base_coords[0]"
   ],
   "id": "2868c7e1748371a3",
   "outputs": [],
   "execution_count": null
  },
  {
   "metadata": {},
   "cell_type": "markdown",
   "source": [
    "## Create local OpenRouteClient\n",
    "This only work if the openroute service is running on localhost"
   ],
   "id": "b91287117ee36622"
  },
  {
   "metadata": {},
   "cell_type": "code",
   "source": [
    "import openrouteservice\n",
    "# Initialize the OpenRouteService client with your API key\n",
    "client = openrouteservice.Client(base_url='http://localhost:8080/ors')\n",
    "\n",
    "# Calculate routes\n",
    "def get_route(lat1, lon1, lat2, lon2):\n",
    "    return client.directions(\n",
    "        coordinates=[[lon1, lat1], [lon2, lat2]],\n",
    "        profile='driving-car',\n",
    "        format='geojson'\n",
    "    )\n",
    "\n",
    "prev_row = None\n",
    "routes_from_base = {}\n",
    "for index, row in routes.iterrows():\n",
    "    if prev_row is None:\n",
    "        route = get_route(base_lat,base_lon,row['lat'],row['long'])\n",
    "    else:\n",
    "        if row['VST'] == 'Schafisheim':\n",
    "            #Adding the routes back leads to too much\n",
    "            #route = get_route(prev_row['lat'],prev_row['long'],row['lat'],row['long'])\n",
    "            pass\n",
    "        if prev_row['Tournummer'] != row['Tournummer']:\n",
    "            route = get_route(base_lat,base_lon,row['lat'],row['long'])\n",
    "    \n",
    "    if row['Tournummer'] in routes_from_base:\n",
    "        routes_from_base[row['Tournummer']].append(route)\n",
    "    else:\n",
    "        routes_from_base[row['Tournummer']] = [route]\n",
    "    prev_row = row"
   ],
   "id": "a40ede52b4c5f607",
   "outputs": [],
   "execution_count": null
  },
  {
   "metadata": {},
   "cell_type": "code",
   "source": [
    "import json\n",
    "with open('data/routes_from_base.json', 'w') as json_file:\n",
    "    json.dump(routes_from_base, json_file)"
   ],
   "id": "af6339e6f7aedb35",
   "outputs": [],
   "execution_count": null
  },
  {
   "metadata": {},
   "cell_type": "markdown",
   "source": [
    "## Create a map of routes from and to the base "
   ],
   "id": "19dc342c8e81568b"
  },
  {
   "metadata": {},
   "cell_type": "code",
   "source": [
    "routes_to_draw = []\n",
    "for route_name, route_geo_jsons in routes_from_base.items():\n",
    "    for geo_route in route_geo_jsons:\n",
    "        coords = [[coord[1], coord[0]] for coord in geo_route['features'][0]['geometry']['coordinates']]\n",
    "        routes_to_draw.append(coords)\n",
    "        \n",
    "routes_to_draw[0]"
   ],
   "id": "9d44d56ec58ab4f5",
   "outputs": [],
   "execution_count": null
  },
  {
   "metadata": {},
   "cell_type": "code",
   "source": [
    "import folium\n",
    "# Create a folium map centered around the fixed address\n",
    "spider_map = folium.Map(location=[base_lat, base_lon], zoom_start=10)\n",
    "for route_to_draw in routes_to_draw:\n",
    "    # Add route to map\n",
    "    folium.PolyLine(\n",
    "        locations=[[coord[0], coord[1]] for coord in route_to_draw],\n",
    "        color='blue',\n",
    "        weight=5,\n",
    "        opacity=0.7\n",
    "    ).add_to(spider_map)\n",
    "spider_map.save('export/spider_map.html')\n",
    "spider_map"
   ],
   "id": "77cbee0c529e2184",
   "outputs": [],
   "execution_count": null
  },
  {
   "metadata": {},
   "cell_type": "markdown",
   "source": [
    "## Color the segments according to the how many times they are driven\n",
    "The visualization is clearer in log scale because the segments close to the base are driven so many times"
   ],
   "id": "28140fc0b96d4044"
  },
  {
   "metadata": {},
   "cell_type": "code",
   "source": [
    "from collections import Counter\n",
    "import math\n",
    "\n",
    "tuples = [tuple(coord) for lst in routes_from_base.values() for sublist in lst for coord in sublist['features'][0]['geometry']['coordinates']]\n",
    "\n",
    "segment_count = dict(Counter(tuples))\n",
    "segment_count_log = {key: math.log(value) for key, value in segment_count.items()}\n",
    "\n",
    "max_occurrence = max(segment_count.values())\n",
    "max_occurrence_log = max(segment_count_log.values())"
   ],
   "id": "3a4b86e5faf88728",
   "outputs": [],
   "execution_count": null
  },
  {
   "metadata": {},
   "cell_type": "code",
   "source": [
    "import branca\n",
    "weighted_spider_map = folium.Map(location=[base_lat, base_lon], zoom_start=10)\n",
    "for route_to_draw in routes_to_draw:\n",
    "    # Add route to map\n",
    "    folium.ColorLine(\n",
    "        positions=[[coord[0], coord[1]] for coord in route_to_draw],\n",
    "        colormap = branca.colormap.linear.viridis.scale(0,max_occurrence_log),\n",
    "        weight=5,\n",
    "        colors=[segment_count_log[(coord[1],coord[0])] for coord in route_to_draw]\n",
    "    ).add_to(weighted_spider_map)\n",
    "weighted_spider_map.save('export/weighted_spider_map.html')\n",
    "weighted_spider_map"
   ],
   "id": "94edd485ce817396",
   "outputs": [],
   "execution_count": null
  }
 ],
 "metadata": {
  "kernelspec": {
   "display_name": "Python 3",
   "language": "python",
   "name": "python3"
  },
  "language_info": {
   "codemirror_mode": {
    "name": "ipython",
    "version": 2
   },
   "file_extension": ".py",
   "mimetype": "text/x-python",
   "name": "python",
   "nbconvert_exporter": "python",
   "pygments_lexer": "ipython2",
   "version": "2.7.6"
  }
 },
 "nbformat": 4,
 "nbformat_minor": 5
}
