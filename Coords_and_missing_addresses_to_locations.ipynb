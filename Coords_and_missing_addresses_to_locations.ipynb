{
 "cells": [
  {
   "cell_type": "markdown",
   "id": "74f01f59eff46372",
   "metadata": {
    "collapsed": false
   },
   "source": [
    "Imports"
   ]
  },
  {
   "cell_type": "code",
   "execution_count": null,
   "id": "8d776418620ba9b",
   "metadata": {
    "collapsed": false
   },
   "outputs": [],
   "source": [
    "import pandas as pd\n",
    "import numpy as np\n",
    "import matplotlib.pyplot as plt\n",
    "from tqdm import tqdm\n",
    "tqdm.pandas()"
   ]
  },
  {
   "cell_type": "markdown",
   "id": "e1eb5c3f99f38840",
   "metadata": {
    "collapsed": false
   },
   "source": [
    "### Parse the data (locations and routes)"
   ]
  },
  {
   "cell_type": "code",
   "execution_count": null,
   "id": "922871669fc25c30",
   "metadata": {
    "collapsed": false
   },
   "outputs": [],
   "source": [
    "# Load locations\n",
    "import pandas as pd\n",
    "\n",
    "# Load the Excel file and use the first row as headers\n",
    "file_path = 'data/Filial_Master_NWZZ.xlsx'  # Update the path as needed\n",
    "locations = pd.read_excel(file_path, sheet_name=1, header=0)  # 'header=0' makes the first row the column headers\n",
    "\n",
    "# Display the header (first few rows)\n",
    "locations.head()\n"
   ]
  },
  {
   "cell_type": "code",
   "execution_count": null,
   "id": "5de28a03-e50e-4b41-b948-b6d13826e9ce",
   "metadata": {},
   "outputs": [],
   "source": [
    "prodega_df = pd.DataFrame({\n",
    "    'Typ':['Prodega'],\n",
    "    'VST-Nummer':[None],\n",
    "    'Format':['PROD'],\n",
    "    'Name':['Prodega Markt Reinach'],\n",
    "    'Strasse': ['Christoph Merian-Ring 29'], \n",
    "    'PLZ': [4153],\n",
    "    'Stadt': ['Reinach']\n",
    "})\n",
    "prodega_df"
   ]
  },
  {
   "cell_type": "code",
   "execution_count": null,
   "id": "794674f2-e320-455e-b731-bb25519507cf",
   "metadata": {},
   "outputs": [],
   "source": [
    "locations = pd.concat([locations, prodega_df], ignore_index=True)"
   ]
  },
  {
   "cell_type": "code",
   "execution_count": null,
   "id": "adb41586-3569-48c9-aec9-f6dcb47f295e",
   "metadata": {},
   "outputs": [],
   "source": [
    "import openrouteservice\n",
    "import folium\n",
    "\n",
    "# Initialize client with OpenRouteService API key\n",
    "client = openrouteservice.Client(key='your_API_key')  # Replace"
   ]
  },
  {
   "cell_type": "code",
   "execution_count": null,
   "id": "8fb5827c-2301-410e-91b4-10d784103c44",
   "metadata": {},
   "outputs": [],
   "source": [
    "locations['fixed_address'] = locations.apply(lambda x: x['Strasse'] + ', ' + str(x['PLZ']) + ', ' + x['Stadt'] + ', Switzerland', axis=1)"
   ]
  },
  {
   "cell_type": "code",
   "execution_count": null,
   "id": "45528a81-776e-4a2f-9cd8-82cf091a410b",
   "metadata": {},
   "outputs": [],
   "source": [
    "def extract_coords(fixed_address):\n",
    "    geocode_fixed = client.pelias_search(fixed_address)\n",
    "    fixed_coords = geocode_fixed['features'][0]['geometry']['coordinates']\n",
    "    fixed_lat, fixed_lon = fixed_coords[1], fixed_coords[0]\n",
    "    return (fixed_lat, fixed_lon)"
   ]
  },
  {
   "cell_type": "code",
   "execution_count": null,
   "id": "00077b71-4ed1-40a0-a4a2-6e93d11e5415",
   "metadata": {},
   "outputs": [],
   "source": [
    "locations['coords'] = locations['fixed_address'].progress_apply(extract_coords)"
   ]
  },
  {
   "cell_type": "code",
   "execution_count": null,
   "id": "635de84e-f67b-42fd-945b-2d4a8086ab9b",
   "metadata": {},
   "outputs": [],
   "source": [
    "locations['lat'] = locations['coords'].apply(lambda x: x[0])\n",
    "locations['long'] = locations['coords'].apply(lambda x: x[1])"
   ]
  },
  {
   "cell_type": "code",
   "execution_count": null,
   "id": "8e9ec171-80f5-42e0-93f4-77db9ee57a33",
   "metadata": {},
   "outputs": [],
   "source": [
    "locations.head()"
   ]
  },
  {
   "cell_type": "code",
   "execution_count": null,
   "id": "e83c63e5-44d7-4952-9b30-85d1d9d734aa",
   "metadata": {},
   "outputs": [],
   "source": [
    "locations.info()"
   ]
  },
  {
   "cell_type": "code",
   "execution_count": null,
   "id": "f1a14cf7-216e-4761-82ec-920444cad6be",
   "metadata": {},
   "outputs": [],
   "source": [
    "locations.to_excel('data/locations_with_coords.xlsx')"
   ]
  },
  {
   "cell_type": "code",
   "execution_count": null,
   "id": "91567bd6-33bc-4c57-9d1d-d647cba468b2",
   "metadata": {},
   "outputs": [],
   "source": []
  }
 ],
 "metadata": {
  "kernelspec": {
   "display_name": "etrucks_env",
   "language": "python",
   "name": "etrucks_env"
  },
  "language_info": {
   "codemirror_mode": {
    "name": "ipython",
    "version": 3
   },
   "file_extension": ".py",
   "mimetype": "text/x-python",
   "name": "python",
   "nbconvert_exporter": "python",
   "pygments_lexer": "ipython3",
   "version": "3.12.4"
  }
 },
 "nbformat": 4,
 "nbformat_minor": 5
}
