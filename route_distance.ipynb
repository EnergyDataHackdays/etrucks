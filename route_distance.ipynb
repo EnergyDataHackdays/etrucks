{
 "cells": [
  {
   "cell_type": "code",
   "id": "initial_id",
   "metadata": {
    "collapsed": true
   },
   "source": [
    "# Load locations\n",
    "import pandas as pd\n",
    "from anyio import sleep\n",
    "\n",
    "# Load the Excel file and use the first row as headers\n",
    "file_path = 'data/locations_with_coords.xlsx'  # Update the path as needed\n",
    "locations = pd.read_excel(file_path, header=0)  # 'header=0' makes the first row the column headers\n",
    "\n",
    "# Display the header (first few rows)\n",
    "locations.head()"
   ],
   "outputs": [],
   "execution_count": null
  },
  {
   "metadata": {},
   "cell_type": "code",
   "source": [
    "# Load routes\n",
    "\n",
    "file_path = 'data/StrategischerTourenplan_HSLU.xlsx'  \n",
    "routes = pd.read_excel(file_path, sheet_name=0, header=0)  # 'header=0' makes the first row the column headers\n",
    "\n",
    "# Display the header (first few rows)\n",
    "routes.head(10)"
   ],
   "id": "a374013a232bc1e2",
   "outputs": [],
   "execution_count": null
  },
  {
   "metadata": {},
   "cell_type": "code",
   "source": [
    "# Remove Bahn\n",
    "routes = routes[routes['Tourtyp'] != 'Bahn']"
   ],
   "id": "b37f3808990a2add",
   "outputs": [],
   "execution_count": null
  },
  {
   "metadata": {},
   "cell_type": "code",
   "source": [
    "routes_grouped = routes.groupby(['Tournummer','VST']).first().reset_index().__deepcopy__()\n",
    "routes_grouped.head(10)"
   ],
   "id": "53222c8f97fd0042",
   "outputs": [],
   "execution_count": null
  },
  {
   "metadata": {},
   "cell_type": "code",
   "source": [
    "#in locations dataframe replace column name 'VST-Nummer' with 'SAP'\n",
    "locations.rename(columns={'VST-Nummer':'SAP'}, inplace=True)\n",
    "locations.head()"
   ],
   "id": "10878d29aec5b898",
   "outputs": [],
   "execution_count": null
  },
  {
   "metadata": {},
   "cell_type": "code",
   "source": [
    "# Find duplicates in the 'locations' dataframe based on the 'SAP' column\n",
    "duplicate_locations = locations[locations.duplicated(subset='SAP', keep=False)]\n",
    "\n",
    "# Display the duplicates\n",
    "print(duplicate_locations)"
   ],
   "id": "6bdcb3296970c1e6",
   "outputs": [],
   "execution_count": null
  },
  {
   "metadata": {},
   "cell_type": "code",
   "source": [
    "# Remove duplicates from the 'locations' dataframe based on the 'SAP' column\n",
    "locations = locations.drop_duplicates(subset='SAP')"
   ],
   "id": "b2352dfadb466314",
   "outputs": [],
   "execution_count": null
  },
  {
   "metadata": {},
   "cell_type": "code",
   "source": [
    "# Set 'SAP' as the index in both dataframes for alignment\n",
    "routes_with_address = routes_grouped.join(locations.set_index('SAP'), on='SAP', how='left')\n",
    "\n",
    "# This way, the original index of routes_grouped is preserved, and no extra rows are added.\n",
    "routes_with_address.head()"
   ],
   "id": "bab2f111923f5298",
   "outputs": [],
   "execution_count": null
  },
  {
   "metadata": {},
   "cell_type": "code",
   "source": [
    "routes_with_address.to_excel('data/routes_with_address.xlsx')"
   ],
   "id": "b8d63b6a710f76d1",
   "outputs": [],
   "execution_count": null
  },
  {
   "metadata": {},
   "cell_type": "code",
   "source": [
    "import openrouteservice\n",
    "\n",
    "# Initialize the OpenRouteService client with your API key\n",
    "API_KEY = 'your-api-key'\n",
    "client = openrouteservice.Client(key=API_KEY)\n",
    "\n",
    "# Define the fixed address\n",
    "base_address = \"xxx, yyy, zzz\"  # Update with the base address\n",
    "\n",
    "geocode_fixed = client.pelias_search(base_address)\n",
    "base_coords = geocode_fixed['features'][0]['geometry']['coordinates']\n",
    "base_lat, base_lon = base_coords[1], base_coords[0]"
   ],
   "id": "8a473b387b4bf3ef",
   "outputs": [],
   "execution_count": null
  },
  {
   "metadata": {},
   "cell_type": "code",
   "source": [
    "routes_with_address.head()"
   ],
   "id": "aa54c22d441fc614",
   "outputs": [],
   "execution_count": null
  },
  {
   "metadata": {},
   "cell_type": "code",
   "source": [
    "# Add base segment after each tour\n",
    "def add_base_after_tour(group):\n",
    "    base_row = pd.DataFrame({\n",
    "        'Tournummer': [group['Tournummer'].iloc[0]],\n",
    "        'Tagestournummer': [group['Tagestournummer'].iloc[0]],\n",
    "        'Wochentag': [group['Wochentag'].iloc[0]],\n",
    "        'VST': 'Schafisheim',\n",
    "        'lat': base_lat,\n",
    "        'long': base_lon,\n",
    "    })\n",
    "    \n",
    "    return pd.concat([group, base_row])\n",
    "\n",
    "# Group by 'Category' and apply the function\n",
    "routes_with_address = routes_with_address.groupby('Tournummer', group_keys=False).apply(add_base_after_tour).reset_index(drop=True)\n",
    "\n",
    "routes_with_address.head()"
   ],
   "id": "85b4170c5c409131",
   "outputs": [],
   "execution_count": null
  },
  {
   "metadata": {},
   "cell_type": "code",
   "source": [
    "# Initialize the OpenRouteService client with your API key\n",
    "client = openrouteservice.Client(base_url='http://localhost:8080/ors')\n",
    "\n",
    "# Calculate distances and add to dataframe\n",
    "def calculate_distance(lat1, lon1, lat2, lon2):\n",
    "    routes = client.directions(\n",
    "        coordinates=[[lon1, lat1], [lon2, lat2]],\n",
    "        profile='driving-car',\n",
    "        format='geojson'\n",
    "    )\n",
    "    distance = routes['features'][0]['properties']['segments'][0]['distance']\n",
    "    duration = routes['features'][0]['properties']['segments'][0]['duration']\n",
    "    return distance / 1000, duration  # Convert meters to kilometers"
   ],
   "id": "2eb214d1ad46a53d",
   "outputs": [],
   "execution_count": null
  },
  {
   "metadata": {},
   "cell_type": "code",
   "source": [
    "import time\n",
    "prev_row = None\n",
    "distance = []\n",
    "duration = []\n",
    "for index, row in routes_with_address.iterrows():\n",
    "    if prev_row is None:\n",
    "        row_distance, row_duration = calculate_distance(base_lat,base_lon,row['lat'],row['long'])\n",
    "    else:\n",
    "        if prev_row['Tournummer'] == row['Tournummer']:\n",
    "            row_distance, row_duration = calculate_distance(prev_row['lat'],prev_row['long'],row['lat'],row['long'])\n",
    "        else:\n",
    "            row_distance, row_duration = calculate_distance(base_lat,base_lon,row['lat'],row['long'])\n",
    "    distance.append(row_distance)\n",
    "    duration.append(row_duration)\n",
    "    prev_row = row\n",
    "routes_with_address['distance'] = distance\n",
    "routes_with_address['duration'] = duration"
   ],
   "id": "62e3693bdcddcc10",
   "outputs": [],
   "execution_count": null
  },
  {
   "metadata": {},
   "cell_type": "markdown",
   "source": [],
   "id": "5bec0aba1bb1fcba"
  },
  {
   "metadata": {},
   "cell_type": "code",
   "source": [
    "routes_with_address.to_excel('data/routes_with_distance.xlsx')"
   ],
   "id": "13b4d8c5923e250c",
   "outputs": [],
   "execution_count": null
  }
 ],
 "metadata": {
  "kernelspec": {
   "display_name": "Python 3",
   "language": "python",
   "name": "python3"
  },
  "language_info": {
   "codemirror_mode": {
    "name": "ipython",
    "version": 2
   },
   "file_extension": ".py",
   "mimetype": "text/x-python",
   "name": "python",
   "nbconvert_exporter": "python",
   "pygments_lexer": "ipython2",
   "version": "2.7.6"
  }
 },
 "nbformat": 4,
 "nbformat_minor": 5
}
