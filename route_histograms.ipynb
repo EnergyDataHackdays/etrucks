{
 "cells": [
  {
   "metadata": {},
   "cell_type": "markdown",
   "source": [],
   "id": "5bec0aba1bb1fcba"
  },
  {
   "cell_type": "code",
   "execution_count": null,
   "outputs": [],
   "source": [
    "import pandas as pd\n",
    "# Create a date range from Monday to Sunday with 1-minute frequency\n",
    "date_range = pd.date_range(start='2024-09-16', periods=7*24*60, freq='T')\n",
    "\n",
    "# Create an empty DataFrame with the date_range as index\n",
    "data_timeseries = pd.DataFrame(index=date_range)\n",
    "# Rename the index to 'Datetime'\n",
    "data_timeseries.index.name = 'Datetime'\n",
    "\n",
    "data_timeseries.head()"
   ],
   "metadata": {
    "collapsed": false
   },
   "id": "a532d379f35b07fc"
  },
  {
   "cell_type": "code",
   "execution_count": null,
   "outputs": [],
   "source": [
    "# Load the Excel file and use the first row as headers\n",
    "file_path = 'data/routes_with_distance.xlsx'  # Update the path as needed\n",
    "routes_with_distance = pd.read_excel(file_path, header=0)  # 'header=0' makes the first row the column headers\n",
    "\n",
    "# Fill NaN values with the value from the row above in a specific column\n",
    "routes_with_distance['Tagestournummer'].ffill(inplace=True)\n",
    "\n",
    "# Display the header (first few rows)\n",
    "routes_with_distance.head(15)\n"
   ],
   "metadata": {
    "collapsed": false
   },
   "id": "6504f99bbb8e3767"
  },
  {
   "cell_type": "code",
   "execution_count": null,
   "outputs": [],
   "source": [
    "routes_grouped = routes_with_distance.groupby(['Tournummer'])['distance'].sum().reset_index()\n",
    "routes_grouped.head(10)\n"
   ],
   "metadata": {
    "collapsed": false
   },
   "id": "b8c877fbed1320ef"
  },
  {
   "cell_type": "code",
   "execution_count": null,
   "outputs": [],
   "source": [
    "routes_with_distance['distance'].max()"
   ],
   "metadata": {
    "collapsed": false
   },
   "id": "a4cd3036e6c6f3bc"
  },
  {
   "cell_type": "code",
   "execution_count": null,
   "outputs": [],
   "source": [
    "import matplotlib.pyplot as plt\n",
    "\n",
    "# Assuming you have a DataFrame called routes_with_distance with a 'distance' column\n",
    "# Plotting the histogram\n",
    "plt.figure(figsize=(8, 6))\n",
    "plt.hist(routes_with_distance['distance'], bins=40, color='blue', edgecolor='black')\n",
    "\n",
    "# Adding titles and labels\n",
    "plt.title('Histogram of distances per segment', fontsize=16)\n",
    "plt.xlabel('Distance [km]', fontsize=14)\n",
    "plt.ylabel('Segment', fontsize=14)\n",
    "\n",
    "# Show the plot\n",
    "plt.show()\n"
   ],
   "metadata": {
    "collapsed": false
   },
   "id": "86b375766ed51024"
  },
  {
   "cell_type": "code",
   "execution_count": null,
   "outputs": [],
   "source": [
    "\n",
    "import matplotlib.pyplot as plt\n",
    "\n",
    "# Assuming you have a DataFrame called routes_with_distance with a 'distance' column\n",
    "# Plotting the histogram\n",
    "plt.figure(figsize=(8, 6))\n",
    "plt.hist(routes_grouped['distance'], bins=40, color='blue', edgecolor='black')\n",
    "\n",
    "# Adding titles and labels\n",
    "plt.title('Histogram of distances per Tournummer (round-trips back to VZ)', fontsize=16)\n",
    "plt.xlabel('Distance [km]', fontsize=14)\n",
    "plt.ylabel('Round-trips', fontsize=14)\n",
    "\n",
    "# Show the plot\n",
    "plt.show()"
   ],
   "metadata": {
    "collapsed": false
   },
   "id": "65cd25aac5050c4a"
  },
  {
   "cell_type": "code",
   "execution_count": null,
   "outputs": [],
   "source": [
    "routes_grouped_day = routes_with_distance.groupby(['Tagestournummer','Wochentag'])['distance'].sum().reset_index()\n",
    "routes_grouped_day.head(10)"
   ],
   "metadata": {
    "collapsed": false
   },
   "id": "ad686b948307d9b9"
  },
  {
   "cell_type": "code",
   "execution_count": null,
   "outputs": [],
   "source": [
    "import matplotlib.pyplot as plt\n",
    "\n",
    "# Assuming you have a DataFrame called routes_with_distance with a 'distance' column\n",
    "# Plotting the histogram\n",
    "plt.figure(figsize=(8, 6))\n",
    "plt.hist(routes_grouped_day['distance'], bins=40, color='blue', edgecolor='black')\n",
    "\n",
    "# Adding titles and labels\n",
    "plt.title('Histogram of distances per Tagestournummer (daily distance)', fontsize=16)\n",
    "plt.xlabel('Daily distance [km]', fontsize=14)\n",
    "plt.ylabel('Vehicles', fontsize=14)\n",
    "\n",
    "# Show the plot\n",
    "plt.show()"
   ],
   "metadata": {
    "collapsed": false
   },
   "id": "40b26ad1afc822de"
  },
  {
   "cell_type": "code",
   "execution_count": null,
   "outputs": [],
   "source": [
    "# Find the Tournummer with the maximum distance\n",
    "max_tournummer = routes_grouped['distance'].idxmax()\n",
    "max_tournummer"
   ],
   "metadata": {
    "collapsed": false
   },
   "id": "5acda8ab894ba667"
  },
  {
   "cell_type": "code",
   "execution_count": null,
   "outputs": [],
   "source": [
    "routes_grouped.loc[max_tournummer]['Tournummer']"
   ],
   "metadata": {
    "collapsed": false
   },
   "id": "478b68b6ca0898ab"
  },
  {
   "cell_type": "code",
   "execution_count": null,
   "outputs": [],
   "source": [
    "routes_with_distance.head(5)"
   ],
   "metadata": {
    "collapsed": false
   },
   "id": "7f8aefa476739635"
  }
 ],
 "metadata": {
  "kernelspec": {
   "display_name": "Python 3",
   "language": "python",
   "name": "python3"
  },
  "language_info": {
   "codemirror_mode": {
    "name": "ipython",
    "version": 2
   },
   "file_extension": ".py",
   "mimetype": "text/x-python",
   "name": "python",
   "nbconvert_exporter": "python",
   "pygments_lexer": "ipython2",
   "version": "2.7.6"
  }
 },
 "nbformat": 4,
 "nbformat_minor": 5
}
