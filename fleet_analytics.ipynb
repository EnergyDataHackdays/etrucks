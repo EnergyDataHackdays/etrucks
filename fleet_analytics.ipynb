{
 "cells": [
  {
   "cell_type": "markdown",
   "source": [
    "# Fleet Analytics of a Logistics Company"
   ],
   "metadata": {
    "collapsed": false
   },
   "id": "2103e4854d70dd03"
  },
  {
   "cell_type": "markdown",
   "source": [
    "Install packages"
   ],
   "metadata": {
    "collapsed": false
   },
   "id": "41bfc40a085eaf7b"
  },
  {
   "cell_type": "code",
   "execution_count": null,
   "outputs": [],
   "source": [
    "pip install geopy"
   ],
   "metadata": {
    "collapsed": false
   },
   "id": "f7952492cfc9d769"
  },
  {
   "cell_type": "code",
   "execution_count": null,
   "outputs": [],
   "source": [
    "pip install openrouteservice"
   ],
   "metadata": {
    "collapsed": false
   },
   "id": "45f798367a3048a7"
  },
  {
   "cell_type": "code",
   "execution_count": null,
   "outputs": [],
   "source": [
    "pip install folium"
   ],
   "metadata": {
    "collapsed": false
   },
   "id": "83f57892eeec09fd"
  },
  {
   "cell_type": "markdown",
   "source": [
    "Imports"
   ],
   "metadata": {
    "collapsed": false
   },
   "id": "74f01f59eff46372"
  },
  {
   "cell_type": "code",
   "execution_count": null,
   "outputs": [],
   "source": [
    "import pandas as pd\n",
    "import numpy as np\n",
    "import matplotlib.pyplot as plt\n"
   ],
   "metadata": {
    "collapsed": false
   },
   "id": "8d776418620ba9b"
  },
  {
   "cell_type": "markdown",
   "source": [
    "### Parse the data (locations and routes)"
   ],
   "metadata": {
    "collapsed": false
   },
   "id": "e1eb5c3f99f38840"
  },
  {
   "cell_type": "code",
   "execution_count": null,
   "outputs": [],
   "source": [
    "# Load locations\n",
    "import pandas as pd\n",
    "\n",
    "# Load the Excel file and use the first row as headers\n",
    "file_path = 'data/Filial_Master_NWZZ.xlsx'  # Update the path as needed\n",
    "locations = pd.read_excel(file_path, sheet_name=1, header=0)  # 'header=0' makes the first row the column headers\n",
    "\n",
    "# Display the header (first few rows)\n",
    "locations.head()\n"
   ],
   "metadata": {
    "collapsed": false
   },
   "id": "922871669fc25c30"
  },
  {
   "cell_type": "code",
   "execution_count": null,
   "outputs": [],
   "source": [
    "# Load routes\n",
    "\n",
    "file_path = 'data/StrategischerTourenplan_HSLU.xlsx'  \n",
    "routes = pd.read_excel(file_path, sheet_name=0, header=0)  # 'header=0' makes the first row the column headers\n",
    "\n",
    "# Display the header (first few rows)\n",
    "routes.head()"
   ],
   "metadata": {
    "collapsed": false
   },
   "id": "ba47259cc2987062"
  },
  {
   "cell_type": "markdown",
   "source": [
    "### Simple analytics"
   ],
   "metadata": {
    "collapsed": false
   },
   "id": "154bb57051023a92"
  },
  {
   "cell_type": "code",
   "execution_count": null,
   "outputs": [],
   "source": [
    "# Number of locations\n",
    "num_locations = locations.shape[0]\n",
    "print('Number of locations: ' + str(num_locations))\n",
    "\n",
    "# Operating days\n",
    "operating_days = routes['Wochentag'].unique().shape[0]\n",
    "print('Operating days per week: ' + str(operating_days))\n",
    "\n",
    "# Number of routes\n",
    "num_routes = routes['Tournummer'].unique().shape[0]\n",
    "print('Number of routes: ' + str(num_routes))"
   ],
   "metadata": {
    "collapsed": false
   },
   "id": "de3dd705059d4b3e"
  },
  {
   "cell_type": "markdown",
   "source": [
    "### Remove multiple entries of same VST"
   ],
   "metadata": {
    "collapsed": false
   },
   "id": "9d2f0a015884ebab"
  },
  {
   "cell_type": "code",
   "execution_count": null,
   "outputs": [],
   "source": [
    "# Filter multiple VSTs\n",
    "routes_grouped = routes.groupby(('Tournummer')).first().__deepcopy__()\n",
    "routes_grouped.head()\n"
   ],
   "metadata": {
    "collapsed": false
   },
   "id": "415250720716ac91"
  },
  {
   "cell_type": "code",
   "execution_count": null,
   "outputs": [],
   "source": [
    "# add location address to routes\n",
    "routes_grouped.shape"
   ],
   "metadata": {
    "collapsed": false
   },
   "id": "3b2d82efbf69d3cc"
  },
  {
   "cell_type": "code",
   "execution_count": null,
   "outputs": [],
   "source": [
    "#in locations dataframe replace column name 'VST-Nummer' with 'SAP'\n",
    "locations.rename(columns={'VST-Nummer':'SAP'}, inplace=True)\n",
    "locations.head()"
   ],
   "metadata": {
    "collapsed": false
   },
   "id": "d0ae705cba7d0bc9"
  },
  {
   "cell_type": "code",
   "execution_count": null,
   "outputs": [],
   "source": [
    "# Find duplicates in the 'locations' dataframe based on the 'SAP' column\n",
    "duplicate_locations = locations[locations.duplicated(subset='SAP', keep=False)]\n",
    "\n",
    "# Display the duplicates\n",
    "print(duplicate_locations)\n"
   ],
   "metadata": {
    "collapsed": false
   },
   "id": "934c1c0fc9fbc5fc"
  },
  {
   "cell_type": "code",
   "execution_count": null,
   "outputs": [],
   "source": [
    "# Remove duplicates from the 'locations' dataframe based on the 'SAP' column\n",
    "locations = locations.drop_duplicates(subset='SAP')"
   ],
   "metadata": {
    "collapsed": false
   },
   "id": "6ae0912f34df102f"
  },
  {
   "cell_type": "code",
   "execution_count": null,
   "outputs": [],
   "source": [
    "# Find duplicates in the 'locations' dataframe based on the 'SAP' column\n",
    "duplicate_locations = locations[locations.duplicated(subset='SAP', keep=False)]\n",
    "\n",
    "# Display the duplicates\n",
    "print(duplicate_locations)"
   ],
   "metadata": {
    "collapsed": false
   },
   "id": "88f2ecdf31aa8cd8"
  },
  {
   "cell_type": "code",
   "execution_count": null,
   "outputs": [],
   "source": [
    "# Set 'SAP' as the index in both dataframes for alignment\n",
    "routes_with_address = routes_grouped.join(locations.set_index('SAP'), on='SAP', how='left')\n",
    "\n",
    "# This way, the original index of routes_grouped is preserved, and no extra rows are added.\n",
    "routes_with_address.head()"
   ],
   "metadata": {
    "collapsed": false
   },
   "id": "816fdc5c216b9542"
  },
  {
   "cell_type": "code",
   "execution_count": null,
   "outputs": [],
   "source": [
    "routes_with_address.to_excel('data/routes_with_address.xlsx')"
   ],
   "metadata": {
    "collapsed": false
   },
   "id": "afe41bc11c8e0dc9"
  },
  {
   "cell_type": "code",
   "execution_count": null,
   "outputs": [],
   "source": [
    "# In routes_with_address dataframe, make PLZ column integer\n",
    "routes_with_address['PLZ'] = routes_with_address['PLZ'].astype(int)"
   ],
   "metadata": {
    "collapsed": false
   },
   "id": "f4b86bf8187ae635"
  },
  {
   "cell_type": "code",
   "execution_count": null,
   "outputs": [],
   "source": [
    "routes_with_address.shape\n"
   ],
   "metadata": {
    "collapsed": false
   },
   "id": "32d5cf843da786b8"
  },
  {
   "cell_type": "markdown",
   "source": [
    "### Add coordinates to the locations\n"
   ],
   "metadata": {
    "collapsed": false
   },
   "id": "b5c7216d89e57e0f"
  },
  {
   "cell_type": "code",
   "execution_count": null,
   "outputs": [],
   "source": [
    "# Geocoding with geopy\n",
    "from geopy.geocoders import Nominatim\n",
    "from geopy.extra.rate_limiter import RateLimiter\n",
    "\n",
    "# Initialize the Nominatim geocoder\n",
    "geolocator = Nominatim(user_agent=\"geoapi\")\n",
    "\n",
    "# Create a rate limiter to handle many requests (1 request per second to avoid being blocked)\n",
    "geocode = RateLimiter(geolocator.geocode, min_delay_seconds=1)\n",
    "\n",
    "# Function to get full address for geocoding\n",
    "def get_full_address(row):\n",
    "    return f\"{row['Strasse']}, {row['PLZ']}, {row['Stadt']}\"\n",
    "\n",
    "# Limit the dataframe to the first 3rows\n",
    "routes_with_address = routes_with_address.iloc[:20]\n",
    "\n",
    "# Apply the geocode function to each row\n",
    "routes_with_address['full_address'] = routes_with_address.apply(get_full_address, axis=1)\n",
    "\n",
    "# Geocode each address and extract latitude and longitude\n",
    "routes_with_address['location'] = routes_with_address['full_address'].apply(geocode)\n",
    "routes_with_address['latitude'] = routes_with_address['location'].apply(lambda loc: loc.latitude if loc else None)\n",
    "routes_with_address['longitude'] = routes_with_address['location'].apply(lambda loc: loc.longitude if loc else None)\n",
    "routes_with_address.head()"
   ],
   "metadata": {
    "collapsed": false
   },
   "id": "9ad8d399e4877ce2"
  },
  {
   "cell_type": "code",
   "execution_count": null,
   "outputs": [],
   "source": [
    "routes_with_address.to_excel('export/routes_with_address.xlsx')"
   ],
   "metadata": {
    "collapsed": false
   },
   "id": "d95fbba200593389"
  },
  {
   "cell_type": "markdown",
   "source": [
    "### Display the locations on a map"
   ],
   "metadata": {
    "collapsed": false
   },
   "id": "c7276de44976446f"
  },
  {
   "cell_type": "code",
   "execution_count": null,
   "outputs": [],
   "source": [
    "import folium\n",
    "\n",
    "# Create a Folium map centered at the average latitude and longitude\n",
    "map_center = [routes_with_address['latitude'].mean(), routes_with_address['longitude'].mean()]\n",
    "mymap = folium.Map(location=map_center, zoom_start=10)\n",
    "\n",
    "# Add markers to the map for each location\n",
    "for _, row in routes_with_address.iterrows():\n",
    "    folium.Marker(\n",
    "        location=[row['latitude'], row['longitude']],\n",
    "        popup=f\"{row['Strasse']}, {row['PLZ']}, {row['Stadt']}\",\n",
    "        tooltip=row['Stadt']\n",
    "    ).add_to(mymap)\n",
    "\n",
    "mymap\n"
   ],
   "metadata": {
    "collapsed": false
   },
   "id": "2b19a38a5338f06b"
  },
  {
   "cell_type": "markdown",
   "source": [
    "### Calculate the distance of routes"
   ],
   "metadata": {
    "collapsed": false
   },
   "id": "b079084ebd562fdd"
  },
  {
   "cell_type": "code",
   "execution_count": null,
   "outputs": [],
   "source": [
    "import openrouteservice\n",
    "from geopy.geocoders import Nominatim\n",
    "\n",
    "# Initialize the OpenRouteService client with your API key\n",
    "API_KEY = 'your-api-key'\n",
    "client = openrouteservice.Client(key=API_KEY)\n",
    "\n",
    "# Initialize Nominatim geocoder to convert addresses to coordinates\n",
    "geolocator = Nominatim(user_agent=\"geoapiExercises\")\n",
    "\n",
    "# Function to convert address to coordinates\n",
    "def get_coordinates(address):\n",
    "    location = geolocator.geocode(address)\n",
    "    return (location.latitude, location.longitude)\n",
    "\n",
    "# Define the fixed address\n",
    "fixed_address = \"xxx, yyyy, Switzerland\"\n",
    "\n",
    "# Get coordinates for the fixed address\n",
    "geocode_fixed = client.pelias_search(fixed_address)\n",
    "fixed_coords = geocode_fixed['features'][0]['geometry']['coordinates']\n",
    "fixed_lat, fixed_lon = fixed_coords[1], fixed_coords[0]\n",
    "\n",
    "\n",
    "# Calculate distances and add to dataframe\n",
    "def calculate_distance(lat1, lon1, lat2, lon2):\n",
    "    routes = client.directions(\n",
    "        coordinates=[[lon1, lat1], [lon2, lat2]],\n",
    "        profile='driving-car',\n",
    "        format='geojson'\n",
    "    )\n",
    "    distance = routes['features'][0]['properties']['segments'][0]['distance']\n",
    "    return distance / 1000  # Convert meters to kilometers\n",
    "\n",
    "# Calculate distance from the fixed address for each row\n",
    "routes_with_address['distance_from_fixed'] = routes_with_address.apply(\n",
    "    lambda row: calculate_distance(fixed_lat, fixed_lon, row['latitude'], row['longitude']),\n",
    "    axis=1\n",
    ")\n",
    "routes_with_address.head()"
   ],
   "metadata": {
    "collapsed": false
   },
   "id": "541c7d9159651e50"
  },
  {
   "cell_type": "markdown",
   "source": [
    "### Extract a route and show it on map"
   ],
   "metadata": {
    "collapsed": false
   },
   "id": "d171e53f9e1e528c"
  },
  {
   "cell_type": "code",
   "execution_count": null,
   "outputs": [],
   "source": [
    "import openrouteservice\n",
    "import folium\n",
    "\n",
    "# Initialize client with OpenRouteService API key\n",
    "client = openrouteservice.Client(key='your-api-key')\n",
    "\n",
    "# Define the fixed address and get its coordinates\n",
    "fixed_address = \"xxx, yyy, zzz\"\n",
    "geocode_fixed = client.pelias_search(fixed_address)\n",
    "fixed_coords = geocode_fixed['features'][0]['geometry']['coordinates']\n",
    "fixed_lat, fixed_lon = fixed_coords[1], fixed_coords[0]\n",
    "\n",
    "# Define a sample address to route to\n",
    "destination_row = routes_with_address.loc['1S1011']\n",
    "destination_lat = destination_row['latitude']\n",
    "destination_lon = destination_row['longitude']\n",
    "destination_coords = [destination_lon, destination_lat]\n",
    "\n",
    "# Get route data\n",
    "routes = client.directions(\n",
    "    coordinates=[[fixed_lon, fixed_lat], destination_coords],\n",
    "    profile='driving-car',\n",
    "    format='geojson'\n",
    ")\n",
    "\n",
    "# Extract route geometry\n",
    "route_geom = routes['features'][0]['geometry']['coordinates']\n",
    "\n",
    "# Create a folium map centered around the fixed address\n",
    "m = folium.Map(location=[fixed_lat, fixed_lon], zoom_start=14)\n",
    "\n",
    "# Add route to map\n",
    "folium.PolyLine(\n",
    "    locations=[[coord[1], coord[0]] for coord in route_geom],\n",
    "    color='blue',\n",
    "    weight=5,\n",
    "    opacity=0.7\n",
    ").add_to(m)\n",
    "\n",
    "# Add markers for start and end points\n",
    "folium.Marker(\n",
    "    location=[fixed_lat, fixed_lon],\n",
    "    popup='Start: Fixed Address',\n",
    "    icon=folium.Icon(color='green')\n",
    ").add_to(m)\n",
    "\n",
    "folium.Marker(\n",
    "    location=[destination_coords[1], destination_coords[0]],\n",
    "    popup='End: Destination Address',\n",
    "    icon=folium.Icon(color='red')\n",
    ").add_to(m)\n",
    "\n",
    "m\n",
    "\n",
    "# more info here: https://openrouteservice.org/disaster-optimization/\n"
   ],
   "metadata": {
    "collapsed": false
   },
   "id": "d8de8430c5c2cf83"
  }
 ],
 "metadata": {
  "kernelspec": {
   "display_name": "Python 3",
   "language": "python",
   "name": "python3"
  },
  "language_info": {
   "codemirror_mode": {
    "name": "ipython",
    "version": 2
   },
   "file_extension": ".py",
   "mimetype": "text/x-python",
   "name": "python",
   "nbconvert_exporter": "python",
   "pygments_lexer": "ipython2",
   "version": "2.7.6"
  }
 },
 "nbformat": 4,
 "nbformat_minor": 5
}
